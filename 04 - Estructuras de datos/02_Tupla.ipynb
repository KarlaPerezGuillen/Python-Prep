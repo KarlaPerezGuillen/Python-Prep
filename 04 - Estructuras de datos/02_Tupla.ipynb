{
 "cells": [
  {
   "cell_type": "code",
   "execution_count": 1,
   "metadata": {},
   "outputs": [],
   "source": [
    "#La tupla es como una lista pero que NO SE PUEDE MODIFICAR y va con ()\n",
    "mi_tupla=(1,2,3,3)"
   ]
  },
  {
   "cell_type": "code",
   "execution_count": 2,
   "metadata": {},
   "outputs": [
    {
     "name": "stdout",
     "output_type": "stream",
     "text": [
      "2\n"
     ]
    }
   ],
   "source": [
    "#Se puede contar cuantas veces aparece un elemento en la tupla\n",
    "print(mi_tupla.count(3))"
   ]
  },
  {
   "cell_type": "code",
   "execution_count": 5,
   "metadata": {},
   "outputs": [
    {
     "data": {
      "text/plain": [
       "False"
      ]
     },
     "execution_count": 5,
     "metadata": {},
     "output_type": "execute_result"
    }
   ],
   "source": [
    "#Se puede saber si existe un elemento en la tupla (tambien funciona en listas)\n",
    "9 in mi_tupla"
   ]
  },
  {
   "cell_type": "code",
   "execution_count": 8,
   "metadata": {},
   "outputs": [
    {
     "name": "stdout",
     "output_type": "stream",
     "text": [
      "Var1: Rojo Var2: 1 Var3: Verde Var4: 2\n"
     ]
    }
   ],
   "source": [
    "#Empaquetar y desempaquetar la tupla\n",
    "mi_tupla2 = ('Rojo', 1, 'Verde', 2)\n",
    "var1, var2, var3, var4 = mi_tupla2\n",
    "print('Var1:', var1, 'Var2:', var2, 'Var3:', var3, 'Var4:', var4)"
   ]
  }
 ],
 "metadata": {
  "interpreter": {
   "hash": "780a354d57c8e214d9717ce5db3cb79ec448e2663d29d7e7694b88eee37d2c96"
  },
  "kernelspec": {
   "display_name": "Python 3.10.2 64-bit",
   "language": "python",
   "name": "python3"
  },
  "language_info": {
   "codemirror_mode": {
    "name": "ipython",
    "version": 3
   },
   "file_extension": ".py",
   "mimetype": "text/x-python",
   "name": "python",
   "nbconvert_exporter": "python",
   "pygments_lexer": "ipython3",
   "version": "3.10.2"
  },
  "orig_nbformat": 4
 },
 "nbformat": 4,
 "nbformat_minor": 2
}
