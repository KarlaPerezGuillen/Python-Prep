{
 "cells": [
  {
   "cell_type": "code",
   "execution_count": 12,
   "metadata": {},
   "outputs": [
    {
     "name": "stdout",
     "output_type": "stream",
     "text": [
      "['rojo', 'azul', 'amarillo', 'verde', 12, True, 5.8]\n"
     ]
    }
   ],
   "source": [
    "#Definir una lista\n",
    "mi_lista = ['rojo', 'azul', 'amarillo', 'verde', 12, True, 5.8]\n",
    "print (mi_lista)"
   ]
  },
  {
   "cell_type": "code",
   "execution_count": 13,
   "metadata": {},
   "outputs": [
    {
     "data": {
      "text/plain": [
       "int"
      ]
     },
     "execution_count": 13,
     "metadata": {},
     "output_type": "execute_result"
    }
   ],
   "source": [
    "#Ver tipo de dato en la lista\n",
    "type(mi_lista[4])"
   ]
  },
  {
   "cell_type": "code",
   "execution_count": 14,
   "metadata": {},
   "outputs": [
    {
     "name": "stdout",
     "output_type": "stream",
     "text": [
      "['rojo', 'azul', 'violeta', 'verde', 12, True, 5.8]\n"
     ]
    }
   ],
   "source": [
    "#modificar lista\n",
    "mi_lista[2]= 'violeta'\n",
    "print (mi_lista)"
   ]
  },
  {
   "cell_type": "code",
   "execution_count": 15,
   "metadata": {},
   "outputs": [
    {
     "name": "stdout",
     "output_type": "stream",
     "text": [
      "['rojo', 'azul', 'violeta', 'perro', 'verde', 12, True, 5.8, 10]\n"
     ]
    }
   ],
   "source": [
    "#Agregar elementos a la lista\n",
    "#Al final\n",
    "mi_lista.append(10)\n",
    "\n",
    "#En el orden que quiero, el 3 es la posición\n",
    "mi_lista.insert(3, 'perro')\n",
    "\n",
    "print (mi_lista)\n"
   ]
  },
  {
   "cell_type": "code",
   "execution_count": 16,
   "metadata": {},
   "outputs": [
    {
     "data": {
      "text/plain": [
       "2"
      ]
     },
     "execution_count": 16,
     "metadata": {},
     "output_type": "execute_result"
    }
   ],
   "source": [
    "#Que me devuelva el indice de x dato en la lista\n",
    "mi_lista.index('violeta')"
   ]
  },
  {
   "cell_type": "code",
   "execution_count": 17,
   "metadata": {},
   "outputs": [
    {
     "data": {
      "text/plain": [
       "10"
      ]
     },
     "execution_count": 17,
     "metadata": {},
     "output_type": "execute_result"
    }
   ],
   "source": [
    "#Quitar elementos de la lista\n",
    "#Le digo el elemento especificamente\n",
    "mi_lista.remove('azul')\n",
    "\n",
    "#Quita el último elemento\n",
    "mi_lista.pop()"
   ]
  },
  {
   "cell_type": "code",
   "execution_count": 18,
   "metadata": {},
   "outputs": [
    {
     "name": "stdout",
     "output_type": "stream",
     "text": [
      "5.8\n"
     ]
    }
   ],
   "source": [
    "#Llamo a una variable con pop\n",
    "a = mi_lista.pop()\n",
    "print (a)"
   ]
  },
  {
   "cell_type": "code",
   "execution_count": 19,
   "metadata": {},
   "outputs": [
    {
     "name": "stdout",
     "output_type": "stream",
     "text": [
      "['rojo', 'violeta', 'perro', 'verde', 12, True, 'bebe', 39]\n"
     ]
    }
   ],
   "source": [
    "#Puedo juntar/concatenar listas\n",
    "mi_lista2 = ['bebe', 39]\n",
    "mi_lista.extend(mi_lista2)\n",
    "print (mi_lista)"
   ]
  },
  {
   "cell_type": "code",
   "execution_count": 20,
   "metadata": {},
   "outputs": [
    {
     "name": "stdout",
     "output_type": "stream",
     "text": [
      "[1, 2, 3, 5, 6, 7, 8, 45]\n"
     ]
    }
   ],
   "source": [
    "#Puedo ordenar las listas con el mismo tipo de dato\n",
    "mi_lista_int = [8,3,5,7,2,1,45,6]\n",
    "mi_lista_int.sort ()\n",
    "print(mi_lista_int)"
   ]
  },
  {
   "cell_type": "code",
   "execution_count": 21,
   "metadata": {},
   "outputs": [
    {
     "name": "stdout",
     "output_type": "stream",
     "text": [
      "['Karla', 'Lotso', 'Lulu', 'Sassi', 'Tomi']\n"
     ]
    }
   ],
   "source": [
    "mi_lista_str = ['Tomi','Sassi','Lulu','Lotso','Karla']\n",
    "mi_lista_str.sort ()\n",
    "print(mi_lista_str)"
   ]
  },
  {
   "cell_type": "code",
   "execution_count": 22,
   "metadata": {},
   "outputs": [
    {
     "name": "stdout",
     "output_type": "stream",
     "text": [
      "['Karla', 'Lotso', 'Lulu', 'Sassi', 'Tomi', 'Karla', 'Lotso', 'Lulu', 'Sassi', 'Tomi']\n"
     ]
    }
   ],
   "source": [
    "#Puedo multiplicarlas\n",
    "print(mi_lista_str*2)"
   ]
  },
  {
   "cell_type": "code",
   "execution_count": 28,
   "metadata": {},
   "outputs": [
    {
     "name": "stdout",
     "output_type": "stream",
     "text": [
      "tres\n"
     ]
    }
   ],
   "source": [
    "#Acceder a una lista dentro de otra lista\n",
    "lista1 = [1, 'tres', False]\n",
    "lista2 = ['Mambo', 43, lista1]\n",
    "print (lista2 [2][1])"
   ]
  },
  {
   "cell_type": "code",
   "execution_count": 24,
   "metadata": {},
   "outputs": [
    {
     "name": "stdout",
     "output_type": "stream",
     "text": [
      "Mambo\n",
      "43\n",
      "[1, 'tres', False]\n"
     ]
    }
   ],
   "source": [
    "#Recorrer ambas listas\n",
    "for elemento in lista2:\n",
    "    print (elemento)"
   ]
  },
  {
   "cell_type": "code",
   "execution_count": 30,
   "metadata": {},
   "outputs": [
    {
     "name": "stdout",
     "output_type": "stream",
     "text": [
      "1\n",
      "tres\n",
      "False\n"
     ]
    }
   ],
   "source": [
    "#Recorrer lista dentro de otra lista\n",
    "for elemento in lista2[2]:\n",
    "    print (elemento)"
   ]
  },
  {
   "cell_type": "code",
   "execution_count": 32,
   "metadata": {},
   "outputs": [
    {
     "name": "stdout",
     "output_type": "stream",
     "text": [
      "t\n",
      "r\n",
      "e\n",
      "s\n"
     ]
    }
   ],
   "source": [
    "#Recorrer un elemento dentro de una lista\n",
    "for elemento in lista1[1]:\n",
    "    print (elemento)\n"
   ]
  }
 ],
 "metadata": {
  "interpreter": {
   "hash": "780a354d57c8e214d9717ce5db3cb79ec448e2663d29d7e7694b88eee37d2c96"
  },
  "kernelspec": {
   "display_name": "Python 3.10.2 64-bit",
   "language": "python",
   "name": "python3"
  },
  "language_info": {
   "codemirror_mode": {
    "name": "ipython",
    "version": 3
   },
   "file_extension": ".py",
   "mimetype": "text/x-python",
   "name": "python",
   "nbconvert_exporter": "python",
   "pygments_lexer": "ipython3",
   "version": "3.10.2"
  },
  "orig_nbformat": 4
 },
 "nbformat": 4,
 "nbformat_minor": 2
}
