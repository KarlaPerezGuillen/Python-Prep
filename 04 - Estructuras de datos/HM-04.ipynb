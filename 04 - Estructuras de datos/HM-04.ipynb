{
 "cells": [
  {
   "cell_type": "markdown",
   "metadata": {},
   "source": [
    "1) Crear una lista que contenga nombres de ciudades del mundo que contenga más de 5 elementos e imprimir por pantalla\n"
   ]
  },
  {
   "cell_type": "code",
   "execution_count": 3,
   "metadata": {},
   "outputs": [
    {
     "name": "stdout",
     "output_type": "stream",
     "text": [
      "['Lima', 'BsAs', 'Bogota', 'Barquisimeto', 'Arequipa', 'Rosario']\n"
     ]
    }
   ],
   "source": [
    "lista_ciudades=['Lima','BsAs','Bogota','Barquisimeto','Arequipa','Rosario']\n",
    "print(lista_ciudades)"
   ]
  },
  {
   "cell_type": "markdown",
   "metadata": {},
   "source": [
    "2) Imprimir por pantalla el segundo elemento de la lista\n"
   ]
  },
  {
   "cell_type": "code",
   "execution_count": 4,
   "metadata": {},
   "outputs": [
    {
     "name": "stdout",
     "output_type": "stream",
     "text": [
      "BsAs\n"
     ]
    }
   ],
   "source": [
    "print(lista_ciudades[1])"
   ]
  },
  {
   "cell_type": "markdown",
   "metadata": {},
   "source": [
    "3) Imprimir por pantalla del segundo al cuarto elemento\n"
   ]
  },
  {
   "cell_type": "code",
   "execution_count": 5,
   "metadata": {},
   "outputs": [
    {
     "name": "stdout",
     "output_type": "stream",
     "text": [
      "['BsAs', 'Bogota', 'Barquisimeto']\n"
     ]
    }
   ],
   "source": [
    "print(lista_ciudades[1:4])"
   ]
  },
  {
   "cell_type": "markdown",
   "metadata": {},
   "source": [
    "4) Visualizar el tipo de dato de la lista\n"
   ]
  },
  {
   "cell_type": "code",
   "execution_count": 6,
   "metadata": {},
   "outputs": [
    {
     "name": "stdout",
     "output_type": "stream",
     "text": [
      "<class 'list'>\n"
     ]
    }
   ],
   "source": [
    "print(type(lista_ciudades))"
   ]
  },
  {
   "cell_type": "markdown",
   "metadata": {},
   "source": [
    "5) Visualizar todos los elementos de la lista a partir del tercero de manera genérica, es decir, sin explicitar la posición del último elemento\n"
   ]
  },
  {
   "cell_type": "code",
   "execution_count": 7,
   "metadata": {},
   "outputs": [
    {
     "name": "stdout",
     "output_type": "stream",
     "text": [
      "['Bogota', 'Barquisimeto', 'Arequipa', 'Rosario']\n"
     ]
    }
   ],
   "source": [
    "print(lista_ciudades[2:])"
   ]
  },
  {
   "cell_type": "markdown",
   "metadata": {},
   "source": [
    "6) Visualizar los primeros 4 elementos de la lista\n"
   ]
  },
  {
   "cell_type": "code",
   "execution_count": 8,
   "metadata": {},
   "outputs": [
    {
     "name": "stdout",
     "output_type": "stream",
     "text": [
      "['Lima', 'BsAs', 'Bogota', 'Barquisimeto']\n"
     ]
    }
   ],
   "source": [
    "print(lista_ciudades[:4])"
   ]
  },
  {
   "cell_type": "markdown",
   "metadata": {},
   "source": [
    "7) Agregar una ciudad más a la lista que ya exista y otra que no ¿Arroja algún tipo de error?\n"
   ]
  },
  {
   "cell_type": "code",
   "execution_count": 9,
   "metadata": {},
   "outputs": [
    {
     "name": "stdout",
     "output_type": "stream",
     "text": [
      "['Lima', 'BsAs', 'Bogota', 'Barquisimeto', 'Arequipa', 'Rosario', 'Lima', 'Santa Fe']\n"
     ]
    }
   ],
   "source": [
    "lista_ciudades.append('Lima')\n",
    "lista_ciudades.append('Santa Fe')\n",
    "print(lista_ciudades)"
   ]
  },
  {
   "cell_type": "markdown",
   "metadata": {},
   "source": [
    "8) Agregar otra ciudad, pero en la cuarta posición\n"
   ]
  },
  {
   "cell_type": "code",
   "execution_count": 10,
   "metadata": {},
   "outputs": [
    {
     "name": "stdout",
     "output_type": "stream",
     "text": [
      "['Lima', 'BsAs', 'Bogota', 'Caracas', 'Barquisimeto', 'Arequipa', 'Rosario', 'Lima', 'Santa Fe']\n"
     ]
    }
   ],
   "source": [
    "lista_ciudades.insert(3,'Caracas')\n",
    "print(lista_ciudades)"
   ]
  },
  {
   "cell_type": "markdown",
   "metadata": {},
   "source": [
    "9) Concatenar otra lista a la ya creada\n"
   ]
  },
  {
   "cell_type": "code",
   "execution_count": 11,
   "metadata": {},
   "outputs": [
    {
     "name": "stdout",
     "output_type": "stream",
     "text": [
      "['Lima', 'BsAs', 'Bogota', 'Caracas', 'Barquisimeto', 'Arequipa', 'Rosario', 'Lima', 'Santa Fe', 'Madrid', 'Paris', 'Lisboa']\n"
     ]
    }
   ],
   "source": [
    "lista_europeas =['Madrid','Paris','Lisboa']\n",
    "lista_ciudades.extend(lista_europeas)\n",
    "print(lista_ciudades)"
   ]
  },
  {
   "cell_type": "markdown",
   "metadata": {},
   "source": [
    "10) Encontrar el índice de la ciudad que en el punto 7 agregamos duplicada. ¿Se nota alguna particularidad?\n"
   ]
  },
  {
   "cell_type": "code",
   "execution_count": 12,
   "metadata": {},
   "outputs": [
    {
     "name": "stdout",
     "output_type": "stream",
     "text": [
      "0\n"
     ]
    }
   ],
   "source": [
    "print(lista_ciudades.index('Lima'))"
   ]
  },
  {
   "cell_type": "markdown",
   "metadata": {},
   "source": [
    "11) ¿Qué pasa si se busca un elemento que no existe?\n"
   ]
  },
  {
   "cell_type": "code",
   "execution_count": 13,
   "metadata": {},
   "outputs": [
    {
     "ename": "ValueError",
     "evalue": "'Roma' is not in list",
     "output_type": "error",
     "traceback": [
      "\u001b[1;31m---------------------------------------------------------------------------\u001b[0m",
      "\u001b[1;31mValueError\u001b[0m                                Traceback (most recent call last)",
      "\u001b[1;32mc:\\HENRY\\Data\\Python-Prep\\04 - Estructuras de datos\\HM-04.ipynb Cell 22'\u001b[0m in \u001b[0;36m<module>\u001b[1;34m\u001b[0m\n\u001b[1;32m----> <a href='vscode-notebook-cell:/c%3A/HENRY/Data/Python-Prep/04%20-%20Estructuras%20de%20datos/HM-04.ipynb#ch0000021?line=0'>1</a>\u001b[0m \u001b[39mprint\u001b[39m(lista_ciudades\u001b[39m.\u001b[39;49mindex(\u001b[39m'\u001b[39;49m\u001b[39mRoma\u001b[39;49m\u001b[39m'\u001b[39;49m))\n",
      "\u001b[1;31mValueError\u001b[0m: 'Roma' is not in list"
     ]
    }
   ],
   "source": [
    "print(lista_ciudades.index('Roma'))"
   ]
  },
  {
   "cell_type": "markdown",
   "metadata": {},
   "source": [
    "12) Eliminar un elemento de la lista\n"
   ]
  },
  {
   "cell_type": "code",
   "execution_count": null,
   "metadata": {},
   "outputs": [
    {
     "name": "stdout",
     "output_type": "stream",
     "text": [
      "['Lima', 'BsAs', 'Bogota', 'Barquisimeto', 'Arequipa', 'Rosario', 'Lima', 'Santa Fe', 'Madrid', 'Paris', 'Lisboa']\n"
     ]
    }
   ],
   "source": [
    "lista_ciudades.remove('Caracas')\n",
    "print(lista_ciudades)"
   ]
  },
  {
   "cell_type": "markdown",
   "metadata": {},
   "source": [
    "13) ¿Qué pasa si el elemento a eliminar no existe?\n"
   ]
  },
  {
   "cell_type": "code",
   "execution_count": null,
   "metadata": {},
   "outputs": [
    {
     "ename": "ValueError",
     "evalue": "list.remove(x): x not in list",
     "output_type": "error",
     "traceback": [
      "\u001b[1;31m---------------------------------------------------------------------------\u001b[0m",
      "\u001b[1;31mValueError\u001b[0m                                Traceback (most recent call last)",
      "\u001b[1;32mc:\\HENRY\\Data\\Python-Prep\\04 - Estructuras de datos\\HM-04.ipynb Cell 26'\u001b[0m in \u001b[0;36m<module>\u001b[1;34m\u001b[0m\n\u001b[1;32m----> <a href='vscode-notebook-cell:/c%3A/HENRY/Data/Python-Prep/04%20-%20Estructuras%20de%20datos/HM-04.ipynb#ch0000026?line=0'>1</a>\u001b[0m lista_ciudades\u001b[39m.\u001b[39;49mremove(\u001b[39m'\u001b[39;49m\u001b[39mAtlantis\u001b[39;49m\u001b[39m'\u001b[39;49m)\n\u001b[0;32m      <a href='vscode-notebook-cell:/c%3A/HENRY/Data/Python-Prep/04%20-%20Estructuras%20de%20datos/HM-04.ipynb#ch0000026?line=1'>2</a>\u001b[0m \u001b[39mprint\u001b[39m(lista_ciudades)\n",
      "\u001b[1;31mValueError\u001b[0m: list.remove(x): x not in list"
     ]
    }
   ],
   "source": [
    "lista_ciudades.remove('Atlantis')\n",
    "print(lista_ciudades)"
   ]
  },
  {
   "cell_type": "markdown",
   "metadata": {},
   "source": [
    "14) Extraer el úlimo elemento de la lista, guardarlo en una variable e imprimirlo\n"
   ]
  },
  {
   "cell_type": "code",
   "execution_count": null,
   "metadata": {},
   "outputs": [
    {
     "name": "stdout",
     "output_type": "stream",
     "text": [
      "Lisboa\n"
     ]
    }
   ],
   "source": [
    "var = lista_ciudades.pop()\n",
    "print(var)"
   ]
  },
  {
   "cell_type": "markdown",
   "metadata": {},
   "source": [
    "15) Mostrar la lista multiplicada por 4\n"
   ]
  },
  {
   "cell_type": "code",
   "execution_count": null,
   "metadata": {},
   "outputs": [
    {
     "name": "stdout",
     "output_type": "stream",
     "text": [
      "['Lima', 'BsAs', 'Bogota', 'Barquisimeto', 'Arequipa', 'Rosario', 'Lima', 'Santa Fe', 'Madrid', 'Paris', 'Lima', 'BsAs', 'Bogota', 'Barquisimeto', 'Arequipa', 'Rosario', 'Lima', 'Santa Fe', 'Madrid', 'Paris', 'Lima', 'BsAs', 'Bogota', 'Barquisimeto', 'Arequipa', 'Rosario', 'Lima', 'Santa Fe', 'Madrid', 'Paris', 'Lima', 'BsAs', 'Bogota', 'Barquisimeto', 'Arequipa', 'Rosario', 'Lima', 'Santa Fe', 'Madrid', 'Paris']\n"
     ]
    }
   ],
   "source": [
    "print(lista_ciudades*4)"
   ]
  },
  {
   "cell_type": "markdown",
   "metadata": {},
   "source": [
    "16) Crear una tupla que contenga los números enteros del 1 al 20\n"
   ]
  },
  {
   "cell_type": "code",
   "execution_count": 15,
   "metadata": {},
   "outputs": [],
   "source": [
    "tupla_numeros=(1,2,3,4,5,6,7,8,9,10,11,12,13,14,15,16,17,18,19,20)"
   ]
  },
  {
   "cell_type": "markdown",
   "metadata": {},
   "source": [
    "17) Imprimir desde el índice 10 al 15 de la tupla\n"
   ]
  },
  {
   "cell_type": "code",
   "execution_count": null,
   "metadata": {},
   "outputs": [
    {
     "name": "stdout",
     "output_type": "stream",
     "text": [
      "(11, 12, 13, 14, 15)\n"
     ]
    }
   ],
   "source": [
    "print(tupla_numeros[10:15])"
   ]
  },
  {
   "cell_type": "markdown",
   "metadata": {},
   "source": [
    "18) Evaluar si los números 20 y 30 están dentro de la tupla\n"
   ]
  },
  {
   "cell_type": "code",
   "execution_count": null,
   "metadata": {},
   "outputs": [
    {
     "name": "stdout",
     "output_type": "stream",
     "text": [
      "True\n",
      "False\n"
     ]
    }
   ],
   "source": [
    "print(20 in tupla_numeros)\n",
    "print(30 in tupla_numeros)"
   ]
  },
  {
   "cell_type": "markdown",
   "metadata": {},
   "source": [
    "19) Con la lista creada en el punto 1, validar la existencia del elemento 'París' y si no existe, agregarlo. Utilizar una variable e informar lo sucedido.\n"
   ]
  },
  {
   "cell_type": "code",
   "execution_count": null,
   "metadata": {},
   "outputs": [
    {
     "name": "stdout",
     "output_type": "stream",
     "text": [
      "El elemento Paris ya existía\n"
     ]
    }
   ],
   "source": [
    "elemento = 'Paris'\n",
    "if (not(elemento in lista_ciudades)):\n",
    "    lista_ciudades.append(elemento)\n",
    "    print('Se insertó el elemento', elemento)\n",
    "else:\n",
    "    print('El elemento', elemento, 'ya existía')"
   ]
  },
  {
   "cell_type": "markdown",
   "metadata": {},
   "source": [
    "20) Mostrar la cantidad de veces que se encuentra un elemento específico dentro de la tupla y de la lista\n"
   ]
  },
  {
   "cell_type": "code",
   "execution_count": null,
   "metadata": {},
   "outputs": [
    {
     "name": "stdout",
     "output_type": "stream",
     "text": [
      "0\n",
      "1\n"
     ]
    }
   ],
   "source": [
    "print(tupla_numeros.count('2'))\n",
    "print(lista_ciudades.count('Barquisimeto'))"
   ]
  },
  {
   "cell_type": "markdown",
   "metadata": {},
   "source": [
    "21) Convertir la tupla en una lista\n"
   ]
  },
  {
   "cell_type": "code",
   "execution_count": 16,
   "metadata": {},
   "outputs": [
    {
     "name": "stdout",
     "output_type": "stream",
     "text": [
      "[1, 2, 3, 4, 5, 6, 7, 8, 9, 10, 11, 12, 13, 14, 15, 16, 17, 18, 19, 20]\n"
     ]
    }
   ],
   "source": [
    "lista_de_tupla=list(tupla_numeros)\n",
    "print(lista_de_tupla)"
   ]
  },
  {
   "cell_type": "markdown",
   "metadata": {},
   "source": [
    "22) Desempaquetar solo los primeros 3 elementos de la tupla en 3 variables\n"
   ]
  },
  {
   "cell_type": "code",
   "execution_count": 17,
   "metadata": {},
   "outputs": [
    {
     "name": "stdout",
     "output_type": "stream",
     "text": [
      "1 2 3\n",
      "1\n",
      "2\n",
      "3\n"
     ]
    }
   ],
   "source": [
    "var1, var2, var3, _, _, _, _, _, _, _, _, _, _, _, _, _, _, _, _, _ = tupla_numeros\n",
    "print(var1,var2,var3)\n",
    "\n",
    "#Tambien funcionaría limitando el rango\n",
    "v1, v2, v3 = tupla_numeros [0:3]\n",
    "print (v1)\n",
    "print (v2)\n",
    "print (v3)"
   ]
  },
  {
   "cell_type": "markdown",
   "metadata": {},
   "source": [
    "23) Crear un diccionario utilizando la lista crada en el punto 1, asignandole la clave \"ciudad\". Agregar tambien otras claves, como puede ser \"Pais\" y \"Continente\".\n"
   ]
  },
  {
   "cell_type": "code",
   "execution_count": null,
   "metadata": {},
   "outputs": [
    {
     "name": "stdout",
     "output_type": "stream",
     "text": [
      "{'Ciudad': [['Lima', 'BsAs', 'Bogota', 'Barquisimeto', 'Arequipa', 'Rosario', 'Lima', 'Santa Fe', 'Madrid', 'Paris']], 'Pais': ['Peru', 'Argentina', 'Venezuela', 'Espana', 'Francia'], 'Continente': ['America', 'Europa']}\n"
     ]
    }
   ],
   "source": [
    "el_diccionario = {'Ciudad':[lista_ciudades],\n",
    "                'Pais': ['Peru','Argentina','Venezuela','Espana','Francia'],\n",
    "                'Continente':['America','Europa']}\n",
    "\n",
    "print(el_diccionario)"
   ]
  },
  {
   "cell_type": "markdown",
   "metadata": {},
   "source": [
    "24) Imprimir las claves del diccionario\n"
   ]
  },
  {
   "cell_type": "code",
   "execution_count": null,
   "metadata": {},
   "outputs": [
    {
     "name": "stdout",
     "output_type": "stream",
     "text": [
      "dict_keys(['Ciudad', 'Pais', 'Continente'])\n"
     ]
    }
   ],
   "source": [
    "print(el_diccionario.keys())"
   ]
  },
  {
   "cell_type": "markdown",
   "metadata": {},
   "source": [
    "25) Imprimir las ciudades a través de su clave\n"
   ]
  },
  {
   "cell_type": "code",
   "execution_count": null,
   "metadata": {},
   "outputs": [
    {
     "name": "stdout",
     "output_type": "stream",
     "text": [
      "[['Lima', 'BsAs', 'Bogota', 'Barquisimeto', 'Arequipa', 'Rosario', 'Lima', 'Santa Fe', 'Madrid', 'Paris']]\n"
     ]
    }
   ],
   "source": [
    "print(el_diccionario['Ciudad'])"
   ]
  }
 ],
 "metadata": {
  "interpreter": {
   "hash": "780a354d57c8e214d9717ce5db3cb79ec448e2663d29d7e7694b88eee37d2c96"
  },
  "kernelspec": {
   "display_name": "Python 3.10.2 64-bit",
   "language": "python",
   "name": "python3"
  },
  "language_info": {
   "codemirror_mode": {
    "name": "ipython",
    "version": 3
   },
   "file_extension": ".py",
   "mimetype": "text/x-python",
   "name": "python",
   "nbconvert_exporter": "python",
   "pygments_lexer": "ipython3",
   "version": "3.10.2"
  },
  "orig_nbformat": 4
 },
 "nbformat": 4,
 "nbformat_minor": 2
}
