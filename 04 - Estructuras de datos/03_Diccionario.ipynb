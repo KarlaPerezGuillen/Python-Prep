{
 "cells": [
  {
   "cell_type": "code",
   "execution_count": 1,
   "metadata": {},
   "outputs": [
    {
     "name": "stdout",
     "output_type": "stream",
     "text": [
      "{'Frutas': ['Manzana', 'Naranja', 'Durazno'], 'Verduras': ['Tomate', 'Lechuga', 'Papa'], 'Especias': ['Pimienta', 'Azafran', 'Canela']}\n"
     ]
    }
   ],
   "source": [
    "#Creo el diccionario\n",
    "mi_diccionario ={'Frutas':['Manzana','Naranja','Durazno'],\n",
    "                'Verduras':['Tomate','Lechuga','Papa'],\n",
    "                'Especias':['Pimienta','Azafran','Canela']}\n",
    "\n",
    "print(mi_diccionario)"
   ]
  },
  {
   "cell_type": "code",
   "execution_count": 3,
   "metadata": {},
   "outputs": [
    {
     "name": "stdout",
     "output_type": "stream",
     "text": [
      "['Manzana', 'Naranja', 'Durazno']\n"
     ]
    }
   ],
   "source": [
    "#Acceder a un valor a traves de su clave\n",
    "print(mi_diccionario['Frutas'])"
   ]
  },
  {
   "cell_type": "code",
   "execution_count": 9,
   "metadata": {},
   "outputs": [
    {
     "name": "stdout",
     "output_type": "stream",
     "text": [
      "{'Verduras': ['Tomate', 'Lechuga', 'Papa'], 'Especias': ['Pimienta', 'Azafran', 'Canela'], 'Arboles': ['Nogal', 'Roble', 'Sauce'], 'Frutas': ['Pera', 'Frutilla', 'Melon']}\n"
     ]
    }
   ],
   "source": [
    "#Cambiar y agregar valores\n",
    "mi_diccionario['Frutas'] = ['Pera','Frutilla','Melon'] #eliminó la clave 'Frutas' anterior y creo una nueva\n",
    "mi_diccionario['Arboles'] = ['Nogal','Roble','Sauce'] #agregó una clave nueva\n",
    "print(mi_diccionario)"
   ]
  },
  {
   "cell_type": "code",
   "execution_count": 11,
   "metadata": {},
   "outputs": [],
   "source": [
    "#Se puede eliminar claves\n",
    "del mi_diccionario['Frutas']"
   ]
  },
  {
   "cell_type": "code",
   "execution_count": 12,
   "metadata": {},
   "outputs": [
    {
     "ename": "KeyError",
     "evalue": "'Frutas'",
     "output_type": "error",
     "traceback": [
      "\u001b[1;31m---------------------------------------------------------------------------\u001b[0m",
      "\u001b[1;31mKeyError\u001b[0m                                  Traceback (most recent call last)",
      "\u001b[1;32mc:\\HENRY\\Data\\Python-Prep\\04 - Estructuras de datos\\03_Diccionario.ipynb Cell 5'\u001b[0m in \u001b[0;36m<module>\u001b[1;34m\u001b[0m\n\u001b[1;32m----> <a href='vscode-notebook-cell:/c%3A/HENRY/Data/Python-Prep/04%20-%20Estructuras%20de%20datos/03_Diccionario.ipynb#ch0000004?line=0'>1</a>\u001b[0m \u001b[39mprint\u001b[39m(mi_diccionario[\u001b[39m'\u001b[39;49m\u001b[39mFrutas\u001b[39;49m\u001b[39m'\u001b[39;49m])\n",
      "\u001b[1;31mKeyError\u001b[0m: 'Frutas'"
     ]
    }
   ],
   "source": [
    "print(mi_diccionario['Frutas'])"
   ]
  },
  {
   "cell_type": "code",
   "execution_count": 14,
   "metadata": {},
   "outputs": [
    {
     "name": "stdout",
     "output_type": "stream",
     "text": [
      "dict_keys(['Verduras', 'Especias', 'Arboles'])\n",
      "dict_values([['Tomate', 'Lechuga', 'Papa'], ['Pimienta', 'Azafran', 'Canela'], ['Nogal', 'Roble', 'Sauce']])\n"
     ]
    }
   ],
   "source": [
    "#Listar elementos: claves y valores dentro del diccionario\n",
    "print(mi_diccionario.keys())\n",
    "print(mi_diccionario.values())"
   ]
  }
 ],
 "metadata": {
  "interpreter": {
   "hash": "780a354d57c8e214d9717ce5db3cb79ec448e2663d29d7e7694b88eee37d2c96"
  },
  "kernelspec": {
   "display_name": "Python 3.10.2 64-bit",
   "language": "python",
   "name": "python3"
  },
  "language_info": {
   "codemirror_mode": {
    "name": "ipython",
    "version": 3
   },
   "file_extension": ".py",
   "mimetype": "text/x-python",
   "name": "python",
   "nbconvert_exporter": "python",
   "pygments_lexer": "ipython3",
   "version": "3.10.2"
  },
  "orig_nbformat": 4
 },
 "nbformat": 4,
 "nbformat_minor": 2
}
