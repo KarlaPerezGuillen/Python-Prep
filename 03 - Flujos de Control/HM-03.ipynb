{
 "cells": [
  {
   "cell_type": "markdown",
   "metadata": {},
   "source": [
    "1) Crear una variable que contenga un elemento del conjunto de números enteros y luego imprimir por pantalla si es mayor o menor a cero"
   ]
  },
  {
   "cell_type": "code",
   "execution_count": 2,
   "metadata": {},
   "outputs": [
    {
     "name": "stdout",
     "output_type": "stream",
     "text": [
      "La variable es mayor a cero\n"
     ]
    }
   ],
   "source": [
    "var1 = 5\n",
    "if (var1 > 0):\n",
    "    print('La variable es mayor a cero')\n",
    "elif (var1 < 0):\n",
    "    print('La variable es menor a cero')  \n",
    "else:\n",
    "    print ('N/A, o sea es igual a 0')"
   ]
  },
  {
   "cell_type": "markdown",
   "metadata": {},
   "source": [
    "2) Crear dos variables y un condicional que informe si son del mismo tipo de dato"
   ]
  },
  {
   "cell_type": "code",
   "execution_count": 3,
   "metadata": {},
   "outputs": [
    {
     "name": "stdout",
     "output_type": "stream",
     "text": [
      "Son de distinto tipo de dato\n"
     ]
    }
   ],
   "source": [
    "var2a = 1\n",
    "var2b = 'a'\n",
    "\n",
    "if (type(var2a) == type(var2b)):\n",
    "    print ('Son del mismo tipo de dato')\n",
    "else:\n",
    "    print ('Son de distinto tipo de dato')\n"
   ]
  },
  {
   "cell_type": "markdown",
   "metadata": {},
   "source": [
    "3) Para los valores enteros del 1 al 20, imprimir por pantalla si es par o impar\n"
   ]
  },
  {
   "cell_type": "code",
   "execution_count": 7,
   "metadata": {},
   "outputs": [
    {
     "name": "stdout",
     "output_type": "stream",
     "text": [
      "1 es impar\n",
      "2 es par\n",
      "3 es impar\n",
      "4 es par\n",
      "5 es impar\n",
      "6 es par\n",
      "7 es impar\n",
      "8 es par\n",
      "9 es impar\n",
      "10 es par\n",
      "11 es impar\n",
      "12 es par\n",
      "13 es impar\n",
      "14 es par\n",
      "15 es impar\n",
      "16 es par\n",
      "17 es impar\n",
      "18 es par\n",
      "19 es impar\n",
      "20 es par\n"
     ]
    }
   ],
   "source": [
    "for var3 in range (1,21):\n",
    "    if var3%2 == 0:\n",
    "        print (str(var3) + ' es par')\n",
    "    else:\n",
    "        print (str(var3) + ' es impar')\n"
   ]
  },
  {
   "cell_type": "code",
   "execution_count": 38,
   "metadata": {},
   "outputs": [
    {
     "name": "stdout",
     "output_type": "stream",
     "text": [
      "1 es impar\n",
      "2 es par\n",
      "3 es impar\n",
      "4 es par\n",
      "5 es impar\n",
      "6 es par\n",
      "7 es impar\n",
      "8 es par\n",
      "9 es impar\n",
      "10 es par\n",
      "11 es impar\n",
      "12 es par\n",
      "13 es impar\n",
      "14 es par\n",
      "15 es impar\n",
      "16 es par\n",
      "17 es impar\n",
      "18 es par\n",
      "19 es impar\n",
      "20 es par\n"
     ]
    }
   ],
   "source": [
    "i=1\n",
    "while (i <= 20):\n",
    "    if (i%2 == 0):\n",
    "        print (str(i) + ' es par')\n",
    "    else:\n",
    "        #print (str(i) + ' es impar')\n",
    "        print (f'{i} es impar')\n",
    "    i = i+1"
   ]
  },
  {
   "cell_type": "markdown",
   "metadata": {},
   "source": [
    "4) En un ciclo for mostrar para los valores entre 0 y 5 el resultado de elevarlo a la potencia igual a 3"
   ]
  },
  {
   "cell_type": "code",
   "execution_count": 9,
   "metadata": {},
   "outputs": [
    {
     "name": "stdout",
     "output_type": "stream",
     "text": [
      "0 elevado a 3 = 0\n",
      "1 elevado a 3 = 1\n",
      "2 elevado a 3 = 8\n",
      "3 elevado a 3 = 27\n",
      "4 elevado a 3 = 64\n",
      "5 elevado a 3 = 125\n"
     ]
    }
   ],
   "source": [
    "for var4 in range (0,6):\n",
    "    print (str(var4) + ' elevado a 3 = ' + str(var4**3))"
   ]
  },
  {
   "cell_type": "markdown",
   "metadata": {},
   "source": [
    "5) Crear una variable que contenga un número entero y realizar un ciclo for la misma cantidad de ciclos"
   ]
  },
  {
   "cell_type": "code",
   "execution_count": 41,
   "metadata": {},
   "outputs": [
    {
     "name": "stdout",
     "output_type": "stream",
     "text": [
      "5\n"
     ]
    }
   ],
   "source": [
    "var5 = 5\n",
    "var5b = 1\n",
    "for i in range(var5b, var5+1):\n",
    "    pass #no hace nada, está solo para que no de error, para que le de la consecuencia al for\n",
    "print(i)"
   ]
  },
  {
   "cell_type": "markdown",
   "metadata": {},
   "source": [
    "6) Utilizar un ciclo while para realizar el factorial de un número guardado en una variable, sólo si la variable contiene un número entero mayor a 0"
   ]
  },
  {
   "cell_type": "code",
   "execution_count": 50,
   "metadata": {},
   "outputs": [
    {
     "name": "stdout",
     "output_type": "stream",
     "text": [
      "El factorial es 6\n"
     ]
    }
   ],
   "source": [
    "var6 = 3\n",
    "if (type(var6) == int):\n",
    "    if (var6 > 0):\n",
    "        factorial = var6\n",
    "        while (var6 > 2):\n",
    "            var6 = var6 - 1\n",
    "            factorial = factorial * var6\n",
    "        print('El factorial es', factorial)\n",
    "    else:\n",
    "        print('La variable no es mayor a cero')\n",
    "else:\n",
    "    print('La variable no es un entero')"
   ]
  },
  {
   "cell_type": "code",
   "execution_count": 47,
   "metadata": {},
   "outputs": [
    {
     "name": "stdout",
     "output_type": "stream",
     "text": [
      "El factorial es 6\n"
     ]
    }
   ],
   "source": [
    "var6 = 3\n",
    "factorial = 1\n",
    "while (var6 > 0):\n",
    "    factorial = factorial * var6 \n",
    "    var6 = var6 -1\n",
    "print (f'El factorial es {factorial}')\n",
    "#Solucion alternativa pero no contempla los if que son necesarios"
   ]
  },
  {
   "cell_type": "markdown",
   "metadata": {},
   "source": [
    "7) Crear un ciclo for dentro de un ciclo while"
   ]
  },
  {
   "cell_type": "code",
   "execution_count": 51,
   "metadata": {},
   "outputs": [
    {
     "name": "stdout",
     "output_type": "stream",
     "text": [
      "Ciclo while nro 2\n",
      "Ciclo for nro 1\n",
      "Ciclo while nro 3\n",
      "Ciclo for nro 1\n",
      "Ciclo while nro 3\n",
      "Ciclo for nro 2\n",
      "Ciclo while nro 4\n",
      "Ciclo for nro 1\n",
      "Ciclo while nro 4\n",
      "Ciclo for nro 2\n",
      "Ciclo while nro 4\n",
      "Ciclo for nro 3\n",
      "Ciclo while nro 5\n",
      "Ciclo for nro 1\n",
      "Ciclo while nro 5\n",
      "Ciclo for nro 2\n",
      "Ciclo while nro 5\n",
      "Ciclo for nro 3\n",
      "Ciclo while nro 5\n",
      "Ciclo for nro 4\n"
     ]
    }
   ],
   "source": [
    "n = 0\n",
    "while(n < 5):\n",
    "    n += 1\n",
    "    for i in range(1,n):\n",
    "        print('Ciclo while nro ' + str(n))\n",
    "        print('Ciclo for nro ' + str(i))"
   ]
  },
  {
   "cell_type": "markdown",
   "metadata": {},
   "source": [
    "8) Crear un ciclo while dentro de un ciclo for"
   ]
  },
  {
   "cell_type": "code",
   "execution_count": 54,
   "metadata": {},
   "outputs": [],
   "source": [
    "n = 5\n",
    "for i in range(1, n):\n",
    "    while(n < 5):\n",
    "        n -= 1\n",
    "        print('Ciclo while nro ' + str(n))\n",
    "        print('Ciclo for nro ' + str(i))"
   ]
  },
  {
   "cell_type": "markdown",
   "metadata": {},
   "source": [
    "9) Imprimir los números primos existentes entre 0 y 30"
   ]
  },
  {
   "cell_type": "code",
   "execution_count": 60,
   "metadata": {},
   "outputs": [
    {
     "name": "stdout",
     "output_type": "stream",
     "text": [
      "El numero 1 es primo\n",
      "El numero 2 es primo\n",
      "El numero 3 es primo\n",
      "El numero 5 es primo\n",
      "El numero 7 es primo\n",
      "El numero 11 es primo\n",
      "El numero 13 es primo\n",
      "El numero 17 es primo\n",
      "El numero 19 es primo\n",
      "El numero 23 es primo\n",
      "El numero 29 es primo\n"
     ]
    }
   ],
   "source": [
    "varmin = 1\n",
    "varmax = 30\n",
    "for i in range (varmin, (varmax+1)):\n",
    "    primo = True\n",
    "    j = 2\n",
    "    while (j < i):\n",
    "        if (i % j == 0):\n",
    "            primo = False \n",
    "        j += 1\n",
    "    if (primo):\n",
    "        print (f'El numero {i} es primo')\n",
    "    "
   ]
  },
  {
   "cell_type": "code",
   "execution_count": 66,
   "metadata": {},
   "outputs": [
    {
     "name": "stdout",
     "output_type": "stream",
     "text": [
      "0\n",
      "1\n",
      "2\n",
      "3\n",
      "5\n",
      "7\n",
      "11\n",
      "13\n",
      "17\n",
      "19\n",
      "23\n",
      "29\n"
     ]
    }
   ],
   "source": [
    "max = 30\n",
    "min = 0\n",
    "primo = True\n",
    "while (min < max):\n",
    "    for i in range (2, min):\n",
    "        if (min % i == 0):\n",
    "            primo = False\n",
    "    if (primo):\n",
    "            print (min)\n",
    "    else:\n",
    "            primo = True\n",
    "    min += 1"
   ]
  },
  {
   "cell_type": "markdown",
   "metadata": {},
   "source": [
    "10) ¿Se puede mejorar el proceso del punto 9? Utilizar las sentencias break y/ó continue para tal fin"
   ]
  },
  {
   "cell_type": "code",
   "execution_count": 61,
   "metadata": {},
   "outputs": [
    {
     "name": "stdout",
     "output_type": "stream",
     "text": [
      "El numero 1 es primo\n",
      "El numero 2 es primo\n",
      "El numero 3 es primo\n",
      "El numero 5 es primo\n",
      "El numero 7 es primo\n",
      "El numero 11 es primo\n",
      "El numero 13 es primo\n",
      "El numero 17 es primo\n",
      "El numero 19 es primo\n",
      "El numero 23 es primo\n",
      "El numero 29 es primo\n"
     ]
    }
   ],
   "source": [
    "varmin = 1\n",
    "varmax = 30\n",
    "for i in range (varmin, (varmax+1)):\n",
    "    primo = True\n",
    "    j = 2\n",
    "    while (j < i):\n",
    "        if (i % j == 0):\n",
    "            primo = False\n",
    "            break \n",
    "        j += 1\n",
    "    if (primo):\n",
    "        print (f'El numero {i} es primo')\n",
    "    "
   ]
  },
  {
   "cell_type": "markdown",
   "metadata": {},
   "source": [
    "11) En los puntos 9 y 10, se diseño un código que encuentra números primos y además se lo optimizó. ¿Es posible saber en qué medida se optimizó?"
   ]
  },
  {
   "cell_type": "code",
   "execution_count": null,
   "metadata": {},
   "outputs": [],
   "source": []
  },
  {
   "cell_type": "markdown",
   "metadata": {},
   "source": [
    "12) Si la cantidad de números que se evalúa es mayor a treinta, esa optimización crece?"
   ]
  },
  {
   "cell_type": "code",
   "execution_count": null,
   "metadata": {},
   "outputs": [],
   "source": []
  },
  {
   "cell_type": "markdown",
   "metadata": {},
   "source": [
    "13) Aplicando continue, armar un ciclo while que solo imprima los valores divisibles por 12, dentro del rango de números de 100 a 300"
   ]
  },
  {
   "cell_type": "code",
   "execution_count": 67,
   "metadata": {},
   "outputs": [
    {
     "name": "stdout",
     "output_type": "stream",
     "text": [
      "108  es divisible por 12\n",
      "120  es divisible por 12\n",
      "132  es divisible por 12\n",
      "144  es divisible por 12\n",
      "156  es divisible por 12\n",
      "168  es divisible por 12\n",
      "180  es divisible por 12\n",
      "192  es divisible por 12\n",
      "204  es divisible por 12\n",
      "216  es divisible por 12\n",
      "228  es divisible por 12\n",
      "240  es divisible por 12\n",
      "252  es divisible por 12\n",
      "264  es divisible por 12\n",
      "276  es divisible por 12\n",
      "288  es divisible por 12\n",
      "300  es divisible por 12\n"
     ]
    }
   ],
   "source": [
    "n = 99\n",
    "while(n <= 300):\n",
    "    n += 1 #va aca porque si va abajo de todo, lo rompe el continue y quedaría siempre en n\n",
    "    if (n % 12 != 0):\n",
    "        continue\n",
    "    print(n, ' es divisible por 12')"
   ]
  },
  {
   "cell_type": "markdown",
   "metadata": {},
   "source": [
    "14) Utilizar la función **input()** que permite hacer ingresos por teclado, para encontrar números primos y dar la opción al usario de buscar el siguiente"
   ]
  },
  {
   "cell_type": "code",
   "execution_count": null,
   "metadata": {},
   "outputs": [],
   "source": []
  },
  {
   "cell_type": "markdown",
   "metadata": {},
   "source": [
    "\n",
    "\n",
    "15) Crear un ciclo while que encuentre dentro del rango de 100 a 300 el primer número divisible por 3 y además múltiplo de 6"
   ]
  },
  {
   "cell_type": "code",
   "execution_count": null,
   "metadata": {},
   "outputs": [],
   "source": []
  }
 ],
 "metadata": {
  "interpreter": {
   "hash": "780a354d57c8e214d9717ce5db3cb79ec448e2663d29d7e7694b88eee37d2c96"
  },
  "kernelspec": {
   "display_name": "Python 3.10.2 64-bit",
   "language": "python",
   "name": "python3"
  },
  "language_info": {
   "codemirror_mode": {
    "name": "ipython",
    "version": 3
   },
   "file_extension": ".py",
   "mimetype": "text/x-python",
   "name": "python",
   "nbconvert_exporter": "python",
   "pygments_lexer": "ipython3",
   "version": "3.10.2"
  },
  "orig_nbformat": 4
 },
 "nbformat": 4,
 "nbformat_minor": 2
}
