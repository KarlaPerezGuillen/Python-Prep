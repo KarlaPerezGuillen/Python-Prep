{
 "cells": [
  {
   "cell_type": "code",
   "execution_count": 3,
   "metadata": {},
   "outputs": [
    {
     "name": "stdout",
     "output_type": "stream",
     "text": [
      "5\n",
      "4\n",
      "9\n",
      "2\n",
      "5\n",
      "4\n",
      "9\n",
      "2\n",
      "H\n",
      "o\n",
      "l\n",
      "a\n"
     ]
    }
   ],
   "source": [
    "#Otra forma de recorrer una lista con varios valores\n",
    "lista = [5, 4, 9, 2]\n",
    "i=0\n",
    "while i < len(lista):\n",
    "    elemento = lista[i]\n",
    "    print(elemento)\n",
    "    i += 1\n",
    "\n",
    "#Otra manera\n",
    "lista = [5, 4, 9, 2]\n",
    "for elemento in lista:\n",
    "    print (elemento)\n",
    "\n",
    "#Y otra\n",
    "cadena = 'Hola'\n",
    "for c in cadena:\n",
    "    print (c)"
   ]
  },
  {
   "cell_type": "code",
   "execution_count": 13,
   "metadata": {},
   "outputs": [
    {
     "name": "stdout",
     "output_type": "stream",
     "text": [
      "[0, 1, 2, 3, 4, 5]\n",
      "6\n",
      "H-o-l-a\n"
     ]
    }
   ],
   "source": [
    "#Elementos iterables\n",
    "\n",
    "#Range, creo una lista de numeros y no los quiero escribir\n",
    "print (list(range(0,6)))\n",
    "\n",
    "#Tambien funciona con tuple\n",
    "\n",
    "#Sum, suma los valores\n",
    "print (sum([1,2,3]))\n",
    "\n",
    "#Join, agrega caracter\n",
    "print('-'.join('Hola'))\n"
   ]
  },
  {
   "cell_type": "code",
   "execution_count": 14,
   "metadata": {},
   "outputs": [
    {
     "name": "stdout",
     "output_type": "stream",
     "text": [
      "a\n",
      "b\n",
      "c\n"
     ]
    }
   ],
   "source": [
    "#Iterar sobre un diccionario\n",
    "\n",
    "mi_dicc = {'a':1, 'b':2, 'c':3}\n",
    "for i in mi_dicc:\n",
    "    print (i)"
   ]
  },
  {
   "cell_type": "code",
   "execution_count": 18,
   "metadata": {},
   "outputs": [
    {
     "name": "stdout",
     "output_type": "stream",
     "text": [
      "página1\n"
     ]
    }
   ],
   "source": [
    "#ITER Y NEXT\n",
    "\n",
    "libro = ['página1', 'página2', 'página3', 'página4', 'página5']\n",
    "marcapaginas = iter(libro)\n",
    "print(next(marcapaginas))"
   ]
  },
  {
   "cell_type": "code",
   "execution_count": 22,
   "metadata": {},
   "outputs": [
    {
     "data": {
      "text/plain": [
       "[(1, 'Uno'), (2, 'Dos')]"
      ]
     },
     "execution_count": 22,
     "metadata": {},
     "output_type": "execute_result"
    }
   ],
   "source": [
    "#ZIP RELACIONA 2 LISTAS --> elemento 0 de la a, con el 0 de la b, etc.\n",
    "\n",
    "a = [1,2]\n",
    "b = ['Uno', 'Dos']\n",
    "c = zip (a,b)\n",
    "type (c)\n",
    "list(c)\n"
   ]
  },
  {
   "cell_type": "code",
   "execution_count": 25,
   "metadata": {},
   "outputs": [
    {
     "name": "stdout",
     "output_type": "stream",
     "text": [
      "['r', 'r', 'r', 'r']\n",
      "4\n"
     ]
    }
   ],
   "source": [
    "#Anadir condicionales - Busca caracteres y los cuenta\n",
    "\n",
    "frase = 'El perro de San roque no tiene rabo'\n",
    "erres = [i for i in frase if i == 'r']\n",
    "print(erres)\n",
    "print (len(erres))"
   ]
  },
  {
   "cell_type": "code",
   "execution_count": 26,
   "metadata": {},
   "outputs": [
    {
     "name": "stdout",
     "output_type": "stream",
     "text": [
      "7\n",
      "21\n",
      "39\n",
      "60\n",
      "67\n"
     ]
    }
   ],
   "source": [
    "#Enumerate, el indice de x valor\n",
    "\n",
    "cadena = 'Hola Mundo. Esto es una practica del lenguaje de programación Python'\n",
    "for i, c in enumerate(cadena):\n",
    "    if c == 'n':\n",
    "        print(i)\n",
    "    "
   ]
  }
 ],
 "metadata": {
  "interpreter": {
   "hash": "780a354d57c8e214d9717ce5db3cb79ec448e2663d29d7e7694b88eee37d2c96"
  },
  "kernelspec": {
   "display_name": "Python 3.10.2 64-bit",
   "language": "python",
   "name": "python3"
  },
  "language_info": {
   "codemirror_mode": {
    "name": "ipython",
    "version": 3
   },
   "file_extension": ".py",
   "mimetype": "text/x-python",
   "name": "python",
   "nbconvert_exporter": "python",
   "pygments_lexer": "ipython3",
   "version": "3.10.2"
  },
  "orig_nbformat": 4
 },
 "nbformat": 4,
 "nbformat_minor": 2
}
