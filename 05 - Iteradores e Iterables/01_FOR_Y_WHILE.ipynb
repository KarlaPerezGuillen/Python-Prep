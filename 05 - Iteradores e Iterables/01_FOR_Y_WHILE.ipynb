{
 "cells": [
  {
   "cell_type": "code",
   "execution_count": null,
   "metadata": {},
   "outputs": [],
   "source": [
    "for i in range (1, 4):\n",
    "    print (i)"
   ]
  },
  {
   "cell_type": "code",
   "execution_count": null,
   "metadata": {},
   "outputs": [],
   "source": [
    "i = 1\n",
    "while (i < 4):\n",
    "    print (i)\n",
    "    i+=1"
   ]
  },
  {
   "cell_type": "code",
   "execution_count": 23,
   "metadata": {},
   "outputs": [],
   "source": [
    "#Quitar duplicados en lista\n",
    "lista_a = ['Sassi','Lotso','Lulú','Tomi','Sassi']"
   ]
  },
  {
   "cell_type": "code",
   "execution_count": null,
   "metadata": {},
   "outputs": [],
   "source": [
    "#Ordena lista\n",
    "lista_a.sort()\n",
    "\n",
    "for elemento in lista_a:\n",
    "    print (elemento)\n",
    "\n"
   ]
  },
  {
   "cell_type": "code",
   "execution_count": null,
   "metadata": {},
   "outputs": [],
   "source": [
    "# QUITAR DUPICADOS DE LA LISTA\n",
    "elemento_ant = ''\n",
    "for elemento in lista_a:\n",
    "    if(elemento != elemento_ant):\n",
    "        print(elemento)\n",
    "    elemento_ant = elemento "
   ]
  },
  {
   "cell_type": "code",
   "execution_count": 55,
   "metadata": {},
   "outputs": [
    {
     "name": "stdout",
     "output_type": "stream",
     "text": [
      "El elemento  aparece 1 veces\n",
      "El elemento Lotso aparece 1 veces\n",
      "El elemento Lulú aparece 1 veces\n",
      "El elemento Sassi aparece 2 veces\n"
     ]
    }
   ],
   "source": [
    "# CUENTA DUPICADOS DE LA LISTA\n",
    "lista_a = ['Sassi','Lotso','Lulú','Tomi','Sassi']\n",
    "lista_a.sort()\n",
    "elemento_ant = ''\n",
    "for elemento in lista_a:\n",
    "    if(elemento != elemento_ant):\n",
    "        elemento_ant = elemento \n",
    "\n",
    "\n",
    "elemento_ant = ''\n",
    "contador = 1\n",
    "for elemento in lista_a:\n",
    "    if(elemento == elemento_ant):\n",
    "        contador += 1\n",
    "    else:\n",
    "        print (f'El elemento {elemento_ant} aparece {contador} veces')\n",
    "        contador = 1\n",
    "    elemento_ant = elemento         "
   ]
  },
  {
   "cell_type": "code",
   "execution_count": 49,
   "metadata": {},
   "outputs": [
    {
     "name": "stdout",
     "output_type": "stream",
     "text": [
      "['Lotso', 'Lulú', 'Sassi', 'Sassi', 'Tomi']\n"
     ]
    }
   ],
   "source": [
    "#Si un elemento existe en la lista, lo elimino, y si no existe, lo agrego (EN UNA CORRIDA LO QUITA, EN LA SIGUIENTE LO AGREGA Y ASI CONSECUTIVAMENTE)\n",
    "\n",
    "if ('Benji' in lista_a):\n",
    "    lista_a.remove('Benji')\n",
    "else:\n",
    "    lista_a.append('Benji') \n",
    "print(lista_a)"
   ]
  }
 ],
 "metadata": {
  "interpreter": {
   "hash": "780a354d57c8e214d9717ce5db3cb79ec448e2663d29d7e7694b88eee37d2c96"
  },
  "kernelspec": {
   "display_name": "Python 3.10.2 64-bit",
   "language": "python",
   "name": "python3"
  },
  "language_info": {
   "codemirror_mode": {
    "name": "ipython",
    "version": 3
   },
   "file_extension": ".py",
   "mimetype": "text/x-python",
   "name": "python",
   "nbconvert_exporter": "python",
   "pygments_lexer": "ipython3",
   "version": "3.10.2"
  },
  "orig_nbformat": 4
 },
 "nbformat": 4,
 "nbformat_minor": 2
}
